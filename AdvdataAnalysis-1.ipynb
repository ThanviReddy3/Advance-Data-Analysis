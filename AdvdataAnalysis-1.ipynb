{
 "cells": [
  {
   "cell_type": "markdown",
   "id": "c377f948",
   "metadata": {},
   "source": [
    "Analysis 1"
   ]
  },
  {
   "cell_type": "code",
   "execution_count": 2,
   "id": "ca3c632c",
   "metadata": {},
   "outputs": [],
   "source": [
    "import requests\n",
    "import numpy as np\n",
    "import pandas as pd\n",
    "from bs4 import BeautifulSoup\n",
    "import re\n",
    "import matplotlib.pyplot as plt\n",
    "import seaborn as sns"
   ]
  },
  {
   "cell_type": "markdown",
   "id": "58c8684d",
   "metadata": {},
   "source": [
    "1. Perform general Data analysis\n"
   ]
  },
  {
   "cell_type": "code",
   "execution_count": 3,
   "id": "a357336e",
   "metadata": {},
   "outputs": [],
   "source": [
    "df = pd.read_csv(r'C:\\Users\\india\\My Python Files\\DataAnalysisProject\\Cleanedautos.csv')"
   ]
  },
  {
   "cell_type": "code",
   "execution_count": 4,
   "id": "261faded",
   "metadata": {},
   "outputs": [
    {
     "name": "stdout",
     "output_type": "stream",
     "text": [
      "<class 'pandas.core.frame.DataFrame'>\n",
      "RangeIndex: 280557 entries, 0 to 280556\n",
      "Data columns (total 19 columns):\n",
      " #   Column               Non-Null Count   Dtype  \n",
      "---  ------               --------------   -----  \n",
      " 0   Unnamed: 0           280557 non-null  int64  \n",
      " 1   dateCrawled          280557 non-null  object \n",
      " 2   name                 280557 non-null  object \n",
      " 3   seller               280557 non-null  object \n",
      " 4   offerType            280557 non-null  object \n",
      " 5   price                280557 non-null  int64  \n",
      " 6   abtest               280557 non-null  object \n",
      " 7   vehicleType          280557 non-null  object \n",
      " 8   yearOfRegistration   280557 non-null  int64  \n",
      " 9   gearbox              280557 non-null  object \n",
      " 10  powerPS              280557 non-null  float64\n",
      " 11  model                280557 non-null  object \n",
      " 12  kilometer            280557 non-null  int64  \n",
      " 13  monthOfRegistration  280557 non-null  int64  \n",
      " 14  fuelType             280557 non-null  object \n",
      " 15  brand                280557 non-null  object \n",
      " 16  dateCreated          280557 non-null  object \n",
      " 17  postalCode           280557 non-null  int64  \n",
      " 18  lastSeen             280557 non-null  object \n",
      "dtypes: float64(1), int64(6), object(12)\n",
      "memory usage: 40.7+ MB\n"
     ]
    }
   ],
   "source": [
    "df.info()"
   ]
  },
  {
   "cell_type": "code",
   "execution_count": 5,
   "id": "fedac3ad",
   "metadata": {},
   "outputs": [],
   "source": [
    "df = df.drop(columns = ['Unnamed: 0'])"
   ]
  },
  {
   "cell_type": "code",
   "execution_count": 6,
   "id": "220fef52",
   "metadata": {},
   "outputs": [
    {
     "data": {
      "text/html": [
       "<div>\n",
       "<style scoped>\n",
       "    .dataframe tbody tr th:only-of-type {\n",
       "        vertical-align: middle;\n",
       "    }\n",
       "\n",
       "    .dataframe tbody tr th {\n",
       "        vertical-align: top;\n",
       "    }\n",
       "\n",
       "    .dataframe thead th {\n",
       "        text-align: right;\n",
       "    }\n",
       "</style>\n",
       "<table border=\"1\" class=\"dataframe\">\n",
       "  <thead>\n",
       "    <tr style=\"text-align: right;\">\n",
       "      <th></th>\n",
       "      <th>dateCrawled</th>\n",
       "      <th>name</th>\n",
       "      <th>seller</th>\n",
       "      <th>offerType</th>\n",
       "      <th>price</th>\n",
       "      <th>abtest</th>\n",
       "      <th>vehicleType</th>\n",
       "      <th>yearOfRegistration</th>\n",
       "      <th>gearbox</th>\n",
       "      <th>powerPS</th>\n",
       "      <th>model</th>\n",
       "      <th>kilometer</th>\n",
       "      <th>monthOfRegistration</th>\n",
       "      <th>fuelType</th>\n",
       "      <th>brand</th>\n",
       "      <th>dateCreated</th>\n",
       "      <th>postalCode</th>\n",
       "      <th>lastSeen</th>\n",
       "    </tr>\n",
       "  </thead>\n",
       "  <tbody>\n",
       "    <tr>\n",
       "      <th>0</th>\n",
       "      <td>2016-03-14 12:52:21</td>\n",
       "      <td>Jeep_Grand_Cherokee_\"Overland\"</td>\n",
       "      <td>private</td>\n",
       "      <td>Angebot</td>\n",
       "      <td>9800</td>\n",
       "      <td>test</td>\n",
       "      <td>suv</td>\n",
       "      <td>2004</td>\n",
       "      <td>automatic</td>\n",
       "      <td>163.0</td>\n",
       "      <td>grand</td>\n",
       "      <td>125000</td>\n",
       "      <td>8</td>\n",
       "      <td>diesel</td>\n",
       "      <td>jeep</td>\n",
       "      <td>2016-03-14</td>\n",
       "      <td>90480</td>\n",
       "      <td>2016-04-05 12:47:46</td>\n",
       "    </tr>\n",
       "    <tr>\n",
       "      <th>1</th>\n",
       "      <td>2016-03-17 16:54:04</td>\n",
       "      <td>GOLF_4_1_4__3TÜRER</td>\n",
       "      <td>private</td>\n",
       "      <td>Angebot</td>\n",
       "      <td>1500</td>\n",
       "      <td>test</td>\n",
       "      <td>kleinwagen</td>\n",
       "      <td>2001</td>\n",
       "      <td>manual</td>\n",
       "      <td>75.0</td>\n",
       "      <td>golf</td>\n",
       "      <td>150000</td>\n",
       "      <td>6</td>\n",
       "      <td>benzin</td>\n",
       "      <td>volkswagen</td>\n",
       "      <td>2016-03-17</td>\n",
       "      <td>91074</td>\n",
       "      <td>2016-03-17 17:40:17</td>\n",
       "    </tr>\n",
       "    <tr>\n",
       "      <th>2</th>\n",
       "      <td>2016-03-31 17:25:20</td>\n",
       "      <td>Skoda_Fabia_1.4_TDI_PD_Classic</td>\n",
       "      <td>private</td>\n",
       "      <td>Angebot</td>\n",
       "      <td>3600</td>\n",
       "      <td>test</td>\n",
       "      <td>kleinwagen</td>\n",
       "      <td>2008</td>\n",
       "      <td>manual</td>\n",
       "      <td>69.0</td>\n",
       "      <td>fabia</td>\n",
       "      <td>90000</td>\n",
       "      <td>7</td>\n",
       "      <td>diesel</td>\n",
       "      <td>skoda</td>\n",
       "      <td>2016-03-31</td>\n",
       "      <td>60437</td>\n",
       "      <td>2016-04-06 10:17:21</td>\n",
       "    </tr>\n",
       "    <tr>\n",
       "      <th>3</th>\n",
       "      <td>2016-04-04 17:36:23</td>\n",
       "      <td>BMW_316i___e36_Limousine___Bastlerfahrzeug__Ex...</td>\n",
       "      <td>private</td>\n",
       "      <td>Angebot</td>\n",
       "      <td>650</td>\n",
       "      <td>test</td>\n",
       "      <td>limousine</td>\n",
       "      <td>1995</td>\n",
       "      <td>manual</td>\n",
       "      <td>102.0</td>\n",
       "      <td>3er</td>\n",
       "      <td>150000</td>\n",
       "      <td>10</td>\n",
       "      <td>benzin</td>\n",
       "      <td>bmw</td>\n",
       "      <td>2016-04-04</td>\n",
       "      <td>33775</td>\n",
       "      <td>2016-04-06 19:17:07</td>\n",
       "    </tr>\n",
       "    <tr>\n",
       "      <th>4</th>\n",
       "      <td>2016-04-01 20:48:51</td>\n",
       "      <td>Peugeot_206_CC_110_Platinum</td>\n",
       "      <td>private</td>\n",
       "      <td>Angebot</td>\n",
       "      <td>2200</td>\n",
       "      <td>test</td>\n",
       "      <td>cabrio</td>\n",
       "      <td>2004</td>\n",
       "      <td>manual</td>\n",
       "      <td>109.0</td>\n",
       "      <td>2_reihe</td>\n",
       "      <td>150000</td>\n",
       "      <td>8</td>\n",
       "      <td>benzin</td>\n",
       "      <td>peugeot</td>\n",
       "      <td>2016-04-01</td>\n",
       "      <td>67112</td>\n",
       "      <td>2016-04-05 18:18:39</td>\n",
       "    </tr>\n",
       "    <tr>\n",
       "      <th>...</th>\n",
       "      <td>...</td>\n",
       "      <td>...</td>\n",
       "      <td>...</td>\n",
       "      <td>...</td>\n",
       "      <td>...</td>\n",
       "      <td>...</td>\n",
       "      <td>...</td>\n",
       "      <td>...</td>\n",
       "      <td>...</td>\n",
       "      <td>...</td>\n",
       "      <td>...</td>\n",
       "      <td>...</td>\n",
       "      <td>...</td>\n",
       "      <td>...</td>\n",
       "      <td>...</td>\n",
       "      <td>...</td>\n",
       "      <td>...</td>\n",
       "      <td>...</td>\n",
       "    </tr>\n",
       "    <tr>\n",
       "      <th>280552</th>\n",
       "      <td>2016-03-27 20:36:20</td>\n",
       "      <td>Opel_Zafira_1.6_Elegance_TÜV_12/16</td>\n",
       "      <td>private</td>\n",
       "      <td>Angebot</td>\n",
       "      <td>1150</td>\n",
       "      <td>control</td>\n",
       "      <td>bus</td>\n",
       "      <td>2000</td>\n",
       "      <td>manual</td>\n",
       "      <td>116.0</td>\n",
       "      <td>zafira</td>\n",
       "      <td>150000</td>\n",
       "      <td>3</td>\n",
       "      <td>benzin</td>\n",
       "      <td>opel</td>\n",
       "      <td>2016-03-27</td>\n",
       "      <td>26624</td>\n",
       "      <td>2016-03-29 10:17:23</td>\n",
       "    </tr>\n",
       "    <tr>\n",
       "      <th>280553</th>\n",
       "      <td>2016-03-05 19:56:21</td>\n",
       "      <td>Smart_smart_leistungssteigerung_100ps</td>\n",
       "      <td>private</td>\n",
       "      <td>Angebot</td>\n",
       "      <td>1199</td>\n",
       "      <td>test</td>\n",
       "      <td>cabrio</td>\n",
       "      <td>2000</td>\n",
       "      <td>automatic</td>\n",
       "      <td>101.0</td>\n",
       "      <td>fortwo</td>\n",
       "      <td>125000</td>\n",
       "      <td>3</td>\n",
       "      <td>benzin</td>\n",
       "      <td>smart</td>\n",
       "      <td>2016-03-05</td>\n",
       "      <td>26135</td>\n",
       "      <td>2016-03-11 18:17:12</td>\n",
       "    </tr>\n",
       "    <tr>\n",
       "      <th>280554</th>\n",
       "      <td>2016-03-19 18:57:12</td>\n",
       "      <td>Volkswagen_Multivan_T4_TDI_7DC_UY2</td>\n",
       "      <td>private</td>\n",
       "      <td>Angebot</td>\n",
       "      <td>9200</td>\n",
       "      <td>test</td>\n",
       "      <td>bus</td>\n",
       "      <td>1996</td>\n",
       "      <td>manual</td>\n",
       "      <td>102.0</td>\n",
       "      <td>transporter</td>\n",
       "      <td>150000</td>\n",
       "      <td>3</td>\n",
       "      <td>diesel</td>\n",
       "      <td>volkswagen</td>\n",
       "      <td>2016-03-19</td>\n",
       "      <td>87439</td>\n",
       "      <td>2016-04-07 07:15:26</td>\n",
       "    </tr>\n",
       "    <tr>\n",
       "      <th>280555</th>\n",
       "      <td>2016-03-20 19:41:08</td>\n",
       "      <td>VW_Golf_Kombi_1_9l_TDI</td>\n",
       "      <td>private</td>\n",
       "      <td>Angebot</td>\n",
       "      <td>3400</td>\n",
       "      <td>test</td>\n",
       "      <td>kombi</td>\n",
       "      <td>2002</td>\n",
       "      <td>manual</td>\n",
       "      <td>100.0</td>\n",
       "      <td>golf</td>\n",
       "      <td>150000</td>\n",
       "      <td>6</td>\n",
       "      <td>diesel</td>\n",
       "      <td>volkswagen</td>\n",
       "      <td>2016-03-20</td>\n",
       "      <td>40764</td>\n",
       "      <td>2016-03-24 12:45:21</td>\n",
       "    </tr>\n",
       "    <tr>\n",
       "      <th>280556</th>\n",
       "      <td>2016-03-07 19:39:19</td>\n",
       "      <td>BMW_M135i_vollausgestattet_NP_52.720____Euro</td>\n",
       "      <td>private</td>\n",
       "      <td>Angebot</td>\n",
       "      <td>28990</td>\n",
       "      <td>control</td>\n",
       "      <td>limousine</td>\n",
       "      <td>2013</td>\n",
       "      <td>manual</td>\n",
       "      <td>320.0</td>\n",
       "      <td>m_reihe</td>\n",
       "      <td>50000</td>\n",
       "      <td>8</td>\n",
       "      <td>benzin</td>\n",
       "      <td>bmw</td>\n",
       "      <td>2016-03-07</td>\n",
       "      <td>73326</td>\n",
       "      <td>2016-03-22 03:17:10</td>\n",
       "    </tr>\n",
       "  </tbody>\n",
       "</table>\n",
       "<p>280557 rows × 18 columns</p>\n",
       "</div>"
      ],
      "text/plain": [
       "                dateCrawled  \\\n",
       "0       2016-03-14 12:52:21   \n",
       "1       2016-03-17 16:54:04   \n",
       "2       2016-03-31 17:25:20   \n",
       "3       2016-04-04 17:36:23   \n",
       "4       2016-04-01 20:48:51   \n",
       "...                     ...   \n",
       "280552  2016-03-27 20:36:20   \n",
       "280553  2016-03-05 19:56:21   \n",
       "280554  2016-03-19 18:57:12   \n",
       "280555  2016-03-20 19:41:08   \n",
       "280556  2016-03-07 19:39:19   \n",
       "\n",
       "                                                     name   seller offerType  \\\n",
       "0                          Jeep_Grand_Cherokee_\"Overland\"  private   Angebot   \n",
       "1                                      GOLF_4_1_4__3TÜRER  private   Angebot   \n",
       "2                          Skoda_Fabia_1.4_TDI_PD_Classic  private   Angebot   \n",
       "3       BMW_316i___e36_Limousine___Bastlerfahrzeug__Ex...  private   Angebot   \n",
       "4                             Peugeot_206_CC_110_Platinum  private   Angebot   \n",
       "...                                                   ...      ...       ...   \n",
       "280552                 Opel_Zafira_1.6_Elegance_TÜV_12/16  private   Angebot   \n",
       "280553              Smart_smart_leistungssteigerung_100ps  private   Angebot   \n",
       "280554                 Volkswagen_Multivan_T4_TDI_7DC_UY2  private   Angebot   \n",
       "280555                             VW_Golf_Kombi_1_9l_TDI  private   Angebot   \n",
       "280556       BMW_M135i_vollausgestattet_NP_52.720____Euro  private   Angebot   \n",
       "\n",
       "        price   abtest vehicleType  yearOfRegistration    gearbox  powerPS  \\\n",
       "0        9800     test         suv                2004  automatic    163.0   \n",
       "1        1500     test  kleinwagen                2001     manual     75.0   \n",
       "2        3600     test  kleinwagen                2008     manual     69.0   \n",
       "3         650     test   limousine                1995     manual    102.0   \n",
       "4        2200     test      cabrio                2004     manual    109.0   \n",
       "...       ...      ...         ...                 ...        ...      ...   \n",
       "280552   1150  control         bus                2000     manual    116.0   \n",
       "280553   1199     test      cabrio                2000  automatic    101.0   \n",
       "280554   9200     test         bus                1996     manual    102.0   \n",
       "280555   3400     test       kombi                2002     manual    100.0   \n",
       "280556  28990  control   limousine                2013     manual    320.0   \n",
       "\n",
       "              model  kilometer  monthOfRegistration fuelType       brand  \\\n",
       "0             grand     125000                    8   diesel        jeep   \n",
       "1              golf     150000                    6   benzin  volkswagen   \n",
       "2             fabia      90000                    7   diesel       skoda   \n",
       "3               3er     150000                   10   benzin         bmw   \n",
       "4           2_reihe     150000                    8   benzin     peugeot   \n",
       "...             ...        ...                  ...      ...         ...   \n",
       "280552       zafira     150000                    3   benzin        opel   \n",
       "280553       fortwo     125000                    3   benzin       smart   \n",
       "280554  transporter     150000                    3   diesel  volkswagen   \n",
       "280555         golf     150000                    6   diesel  volkswagen   \n",
       "280556      m_reihe      50000                    8   benzin         bmw   \n",
       "\n",
       "        dateCreated  postalCode             lastSeen  \n",
       "0       2016-03-14        90480  2016-04-05 12:47:46  \n",
       "1       2016-03-17        91074  2016-03-17 17:40:17  \n",
       "2       2016-03-31        60437  2016-04-06 10:17:21  \n",
       "3       2016-04-04        33775  2016-04-06 19:17:07  \n",
       "4       2016-04-01        67112  2016-04-05 18:18:39  \n",
       "...             ...         ...                  ...  \n",
       "280552  2016-03-27        26624  2016-03-29 10:17:23  \n",
       "280553  2016-03-05        26135  2016-03-11 18:17:12  \n",
       "280554  2016-03-19        87439  2016-04-07 07:15:26  \n",
       "280555  2016-03-20        40764  2016-03-24 12:45:21  \n",
       "280556  2016-03-07        73326  2016-03-22 03:17:10  \n",
       "\n",
       "[280557 rows x 18 columns]"
      ]
     },
     "execution_count": 6,
     "metadata": {},
     "output_type": "execute_result"
    }
   ],
   "source": [
    "df"
   ]
  },
  {
   "cell_type": "markdown",
   "id": "0eb637cb",
   "metadata": {},
   "source": [
    "2.Can you tell me the Distribution of Vehicles based on Year of Registration with the help of a plot"
   ]
  },
  {
   "cell_type": "code",
   "execution_count": 7,
   "id": "8d4f24ed",
   "metadata": {},
   "outputs": [
    {
     "data": {
      "text/plain": [
       "<Axes: title={'center': 'Distribution of Vehicles based on Year of Registration'}, ylabel='Density'>"
      ]
     },
     "execution_count": 7,
     "metadata": {},
     "output_type": "execute_result"
    },
    {
     "data": {
      "image/png": "[encoded data removed]",
      "text/plain": [
       "<Figure size 600x400 with 1 Axes>"
      ]
     },
     "metadata": {},
     "output_type": "display_data"
    }
   ],
   "source": [
    "df['yearOfRegistration'].plot(kind = 'kde', figsize=(6,4),\n",
    "                              title = 'Distribution of Vehicles based on Year of Registration',\n",
    "                              xlabel = 'Year of Registration')"
   ]
  },
  {
   "cell_type": "markdown",
   "id": "8d070b97",
   "metadata": {},
   "source": [
    "* 'yearOfRegistration' is left skewed data. There are more data points are between 1980 to 2015"
   ]
  },
  {
   "cell_type": "markdown",
   "id": "abbd2078",
   "metadata": {},
   "source": [
    "3. Create a plot based on the Variation of the price range by the vehicle type\n"
   ]
  },
  {
   "cell_type": "code",
   "execution_count": 31,
   "id": "dc7e6b88",
   "metadata": {},
   "outputs": [
    {
     "data": {
      "text/plain": [
       "<Axes: xlabel='vehicleType'>"
      ]
     },
     "execution_count": 31,
     "metadata": {},
     "output_type": "execute_result"
    },
    {
     "data": {
      "image/png": "[encoded data removed]",
      "text/plain": [
       "<Figure size 640x480 with 1 Axes>"
      ]
     },
     "metadata": {},
     "output_type": "display_data"
    }
   ],
   "source": [
    "df.groupby(\"vehicleType\")[\"price\"].mean().plot(kind=\"bar\", color = ['orange', 'green'])"
   ]
  },
  {
   "cell_type": "markdown",
   "id": "34600121",
   "metadata": {},
   "source": [
    "* SUVs has the highest price range, followed by Carbio and least in Kleiwagen."
   ]
  },
  {
   "cell_type": "markdown",
   "id": "a5debf19",
   "metadata": {},
   "source": [
    " 4. Find out Total count of vehicles by type available on ebay for sale.As well as create a visualization for the client"
   ]
  },
  {
   "cell_type": "code",
   "execution_count": 18,
   "id": "62d67524",
   "metadata": {},
   "outputs": [
    {
     "data": {
      "text/plain": [
       "vehicleType\n",
       "limousine     82775\n",
       "kleinwagen    61482\n",
       "kombi         57952\n",
       "bus           27072\n",
       "cabrio        20164\n",
       "coupe         15840\n",
       "suv           13080\n",
       "andere         2192\n",
       "Name: count, dtype: int64"
      ]
     },
     "execution_count": 18,
     "metadata": {},
     "output_type": "execute_result"
    }
   ],
   "source": [
    "vehiclecount = df['vehicleType'].value_counts()\n",
    "vehiclecount"
   ]
  },
  {
   "cell_type": "code",
   "execution_count": 29,
   "id": "3c5a623b",
   "metadata": {},
   "outputs": [
    {
     "data": {
      "text/plain": [
       "<Axes: xlabel='vehicletype', ylabel='counts'>"
      ]
     },
     "execution_count": 29,
     "metadata": {},
     "output_type": "execute_result"
    },
    {
     "data": {
      "image/png": "[encoded data removed]",
      "text/plain": [
       "<Figure size 640x480 with 1 Axes>"
      ]
     },
     "metadata": {},
     "output_type": "display_data"
    }
   ],
   "source": [
    "vehiclecount.plot(kind=\"bar\",ylabel=\"counts\",xlabel=\"vehicletype\", color = ['orange', 'red'])"
   ]
  },
  {
   "cell_type": "markdown",
   "id": "f1aa21f8",
   "metadata": {},
   "source": [
    "* limousine brand has more number of vehicletypes and there are less vehicle types in andere brand "
   ]
  },
  {
   "cell_type": "markdown",
   "id": "17594a24",
   "metadata": {},
   "source": [
    "5. Is there any relationship between dollar_price and kilometer? (Explain with appropriate analysis)"
   ]
  },
  {
   "cell_type": "code",
   "execution_count": 35,
   "id": "7eeae31d",
   "metadata": {},
   "outputs": [
    {
     "name": "stdout",
     "output_type": "stream",
     "text": [
      "Correlation between dollar_price and kilometer: -0.3328688392017022\n"
     ]
    }
   ],
   "source": [
    "correlation = df['price'].corr(df['kilometer'])\n",
    "print(f\"Correlation between dollar_price and kilometer: {correlation}\")"
   ]
  },
  {
   "cell_type": "code",
   "execution_count": 45,
   "id": "694aecfd",
   "metadata": {},
   "outputs": [
    {
     "data": {
      "text/plain": [
       "Text(0.5, 1.0, 'Correlation Heatmap: Dollar Price vs. Kilometer')"
      ]
     },
     "execution_count": 45,
     "metadata": {},
     "output_type": "execute_result"
    },
    {
     "data": {
      "image/png": "[encoded data removed]",
      "text/plain": [
       "<Figure size 640x480 with 2 Axes>"
      ]
     },
     "metadata": {},
     "output_type": "display_data"
    }
   ],
   "source": [
    "corr = df[['price','kilometer']].corr()\n",
    "sns.heatmap(corr, annot = True, cmap = 'RdBu')\n",
    "plt.title('Correlation Heatmap: Dollar Price vs. Kilometer')"
   ]
  },
  {
   "cell_type": "markdown",
   "id": "77e4a6d0",
   "metadata": {},
   "source": [
    "* There is negative corelation of -0.332 between price and kilometer"
   ]
  },
  {
   "cell_type": "code",
   "execution_count": null,
   "id": "daca5897",
   "metadata": {},
   "outputs": [],
   "source": []
  }
 ],
 "metadata": {
  "kernelspec": {
   "display_name": "Python 3 (ipykernel)",
   "language": "python",
   "name": "python3"
  },
  "language_info": {
   "codemirror_mode": {
    "name": "ipython",
    "version": 3
   },
   "file_extension": ".py",
   "mimetype": "text/x-python",
   "name": "python",
   "nbconvert_exporter": "python",
   "pygments_lexer": "ipython3",
   "version": "3.11.4"
  }
 },
 "nbformat": 4,
 "nbformat_minor": 5
}
